{
 "cells": [
  {
   "cell_type": "markdown",
   "metadata": {},
   "source": [
    "# matplotlibの基礎\n",
    "グラフを描画するためのモジュール、matplotlibの使い方を学びます。  \n",
    "コードの実行結果を可視化できるようになりましょう。"
   ]
  },
  {
   "cell_type": "markdown",
   "metadata": {},
   "source": [
    "### matplotlibとは\n",
    "\n",
    "matplotlibはNumPyと同じPythonの外部モジュールで、グラフの描画や画像の表示、簡単なアニメーションの作成などを行うことができます。  \n",
    "人工知能においてはデータを可視化することがとても大事ですので、このレクチャーではmatplotlibによるグラフの描画を解説します。  "
   ]
  },
  {
   "cell_type": "markdown",
   "metadata": {},
   "source": [
    "### matplotlibのインポート\n",
    "グラフを描画するためには、matplotlibのpyplotというモジュールをインポートします。  \n",
    "pyplotはグラフの描画をサポートします。  \n",
    "データにはNumPyの配列を使いますので、NumPyもインポートします。  \n",
    "また、Jupyter notebookでmatplotlibのグラフを表示するためには、先頭に`%matplotlib inline`の記述が必要なことがあります。 "
   ]
  },
  {
   "cell_type": "code",
   "execution_count": null,
   "metadata": {
    "collapsed": true,
    "jupyter": {
     "outputs_hidden": true
    }
   },
   "outputs": [],
   "source": [
    "%matplotlib inline\n",
    "\n",
    "import numpy as np\n",
    "import matplotlib.pyplot as plt"
   ]
  },
  {
   "cell_type": "markdown",
   "metadata": {},
   "source": [
    "これ以降のコードでは、`%matplotlib inline`の記述が省略されています。  \n",
    "環境によってはこの表記がないとグラフが表示されないことがあるので、実行してもグラフが表示されない場合はこの表記を先頭に追加しましょう。"
   ]
  },
  {
   "cell_type": "markdown",
   "metadata": {
    "tags": []
   },
   "source": [
    "### linspace関数\n",
    "\n",
    "matplotlibでグラフを描画する際に、NumPyのlinspace関数がよく使われます。  \n",
    "linspace関数は、ある区間を50に等間隔で区切ってNumPyの配列にします。  \n",
    "この配列を、グラフの横軸の値としてよく使います。  "
   ]
  },
  {
   "cell_type": "code",
   "execution_count": 1,
   "metadata": {},
   "outputs": [
    {
     "name": "stdout",
     "output_type": "stream",
     "text": [
      "[-5.         -4.79591837 -4.59183673 -4.3877551  -4.18367347 -3.97959184\n",
      " -3.7755102  -3.57142857 -3.36734694 -3.16326531 -2.95918367 -2.75510204\n",
      " -2.55102041 -2.34693878 -2.14285714 -1.93877551 -1.73469388 -1.53061224\n",
      " -1.32653061 -1.12244898 -0.91836735 -0.71428571 -0.51020408 -0.30612245\n",
      " -0.10204082  0.10204082  0.30612245  0.51020408  0.71428571  0.91836735\n",
      "  1.12244898  1.32653061  1.53061224  1.73469388  1.93877551  2.14285714\n",
      "  2.34693878  2.55102041  2.75510204  2.95918367  3.16326531  3.36734694\n",
      "  3.57142857  3.7755102   3.97959184  4.18367347  4.3877551   4.59183673\n",
      "  4.79591837  5.        ]\n",
      "50\n"
     ]
    }
   ],
   "source": [
    "import numpy as np\n",
    "\n",
    "x = np.linspace(-5, 5)  # -5から5まで50に区切る\n",
    "\n",
    "print(x)\n",
    "print(len(x))  # xの要素数"
   ]
  },
  {
   "cell_type": "markdown",
   "metadata": {},
   "source": [
    "この配列を使って、連続に変化する横軸の値を擬似的に表現します。"
   ]
  },
  {
   "cell_type": "markdown",
   "metadata": {},
   "source": [
    "### グラフの描画\n",
    "\n",
    "例として、pyplotを使って直線を描画します。  \n",
    "NumPyのlinspace関数でx座標のデータを配列として生成し、これに値をかけてy座標とします。  \n",
    "そして、pyplotのplotで、x座標、y座標のデータをプロットし、showでグラフを表示します。  "
   ]
  },
  {
   "cell_type": "code",
   "execution_count": 3,
   "metadata": {},
   "outputs": [
    {
     "data": {
      "image/png": "[encoded data removed]",
      "text/plain": [
       "<Figure size 432x288 with 1 Axes>"
      ]
     },
     "metadata": {
      "needs_background": "light"
     },
     "output_type": "display_data"
    },
    {
     "name": "stdout",
     "output_type": "stream",
     "text": [
      "<module 'matplotlib.pyplot' from '/Users/kazuma/.pyenv/versions/3.10.4/lib/python3.10/site-packages/matplotlib/pyplot.py'>\n"
     ]
    }
   ],
   "source": [
    "import numpy as np\n",
    "import matplotlib.pyplot as plt\n",
    "\n",
    "x = np.linspace(-5, 5)  # -5から5まで\n",
    "y = 2 * x  # xに2をかけてy座標とする\n",
    "\n",
    "plt.plot(x, y)\n",
    "plt.show()"
   ]
  },
  {
   "cell_type": "markdown",
   "metadata": {},
   "source": [
    "実行してもグラフが表示されない方は、`%matplotlib inline`を一番上の行に追記しましょう。  "
   ]
  },
  {
   "cell_type": "markdown",
   "metadata": {},
   "source": [
    "### グラフの装飾\n",
    "\n",
    "軸のラベルやグラフのタイトル、凡例などを表示し、線のスタイルを変更してリッチなグラフにしましょう。"
   ]
  },
  {
   "cell_type": "code",
   "execution_count": 4,
   "metadata": {},
   "outputs": [
    {
     "data": {
      "image/png": "[encoded data removed]",
      "text/plain": [
       "<Figure size 432x288 with 1 Axes>"
      ]
     },
     "metadata": {
      "needs_background": "light"
     },
     "output_type": "display_data"
    }
   ],
   "source": [
    "import numpy as np\n",
    "import matplotlib.pyplot as plt\n",
    "\n",
    "x = np.linspace(-5, 5)\n",
    "y_1 = 2 * x\n",
    "y_2 = 3 * x\n",
    "\n",
    "# 軸のラベル\n",
    "plt.xlabel(\"x value\")\n",
    "plt.ylabel(\"y value\")\n",
    "\n",
    "# グラフのタイトル\n",
    "plt.title(\"My Graph\")\n",
    "\n",
    "# プロット 凡例と線のスタイルを指定\n",
    "plt.plot(x, y_1, label=\"y1\")\n",
    "plt.plot(x, y_2, label=\"y2\", linestyle=\"dashed\")\n",
    "# plt.legend() # 凡例を表示\n",
    "\n",
    "plt.show()"
   ]
  },
  {
   "cell_type": "markdown",
   "metadata": {},
   "source": [
    "### 散布図の表示\n",
    "scatter関数により散布図を表示することができます。  \n",
    "以下のコードでは、x座標、y座標から散布図を描画しています。 "
   ]
  },
  {
   "cell_type": "code",
   "execution_count": null,
   "metadata": {},
   "outputs": [],
   "source": [
    "import numpy as np\n",
    "import matplotlib.pyplot as plt\n",
    "\n",
    "x = np.array([1.2, 2.4, 0.0, 1.4, 1.5])\n",
    "y = np.array([2.4, 1.4, 1.0, 0.1, 1.7])\n",
    "\n",
    "plt.scatter(x, y)  # 散布図のプロット\n",
    "plt.show()"
   ]
  },
  {
   "cell_type": "markdown",
   "metadata": {},
   "source": [
    "### 演習:\n",
    "\n",
    "以下のセルをを補完して、グラフを描画しましょう。  \n",
    "xの範囲、およびxに対する演算は、好きなように設定しましょう。"
   ]
  },
  {
   "cell_type": "code",
   "execution_count": null,
   "metadata": {},
   "outputs": [],
   "source": [
    "import numpy as np\n",
    "import matplotlib.pyplot as plt\n",
    "\n",
    "x =    # xの範囲を指定\n",
    "y_1 =   # xに演算を行いy_1とする\n",
    "y_2 =   # xに演算を行いy_2とする\n",
    "\n",
    "# 軸のラベル\n",
    "plt.xlabel(\"x value\")\n",
    "plt.ylabel(\"y value\")\n",
    "\n",
    "# グラフのタイトル\n",
    "plt.title(\"My Graph\")\n",
    "\n",
    "# プロット 凡例と線のスタイルを指定\n",
    "plt.plot(x, y_1, label=\"y1\")\n",
    "plt.plot(x, y_2, label=\"y2\", linestyle=\"dashed\")\n",
    "plt.legend() # 凡例を表示\n",
    "\n",
    "plt.show()"
   ]
  }
 ],
 "metadata": {
  "kernelspec": {
   "display_name": "Python 3 (ipykernel)",
   "language": "python",
   "name": "python3"
  },
  "language_info": {
   "codemirror_mode": {
    "name": "ipython",
    "version": 3
   },
   "file_extension": ".py",
   "mimetype": "text/x-python",
   "name": "python",
   "nbconvert_exporter": "python",
   "pygments_lexer": "ipython3",
   "version": "3.10.4"
  }
 },
 "nbformat": 4,
 "nbformat_minor": 4
}
