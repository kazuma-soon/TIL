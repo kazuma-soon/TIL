{
 "cells": [
  {
   "cell_type": "code",
   "execution_count": 59,
   "id": "86ce7a57-72aa-4aaf-88ee-9130ea974bdb",
   "metadata": {},
   "outputs": [],
   "source": [
    "class Car:\n",
    "    def __init__(self, name, add):\n",
    "        self.name = name\n",
    "        self.add = add\n",
    "        \n",
    "    def exclaim(self):\n",
    "        print(self)\n",
    "        print('Car')\n",
    "        \n",
    "        \n",
    "class Yugo(Car):\n",
    "    def __init__(self, name, email, add):\n",
    "        super().__init__(add, name)\n",
    "        self.email = email\n",
    "        \n",
    "    def exclaim():\n",
    "        'Yugo'"
   ]
  },
  {
   "cell_type": "code",
   "execution_count": 60,
   "id": "f85ed934-c6e1-4a71-bcf5-64874a3e5efb",
   "metadata": {},
   "outputs": [],
   "source": [
    "car = Car(name = 'a', add = 'nara')\n",
    "yugo = Yugo(email = 'a.com', add = 'nara', name = 'yugo')"
   ]
  },
  {
   "cell_type": "code",
   "execution_count": 61,
   "id": "22681b8a-f852-49d3-88a7-2b0686dc7e92",
   "metadata": {},
   "outputs": [
    {
     "data": {
      "text/plain": [
       "'nara'"
      ]
     },
     "execution_count": 61,
     "metadata": {},
     "output_type": "execute_result"
    }
   ],
   "source": [
    "car.add"
   ]
  },
  {
   "cell_type": "code",
   "execution_count": 62,
   "id": "d033b65e-4320-43ce-b893-3fa008456f58",
   "metadata": {},
   "outputs": [
    {
     "data": {
      "text/plain": [
       "False"
      ]
     },
     "execution_count": 62,
     "metadata": {},
     "output_type": "execute_result"
    }
   ],
   "source": [
    "isinstance(Yugo, Car)"
   ]
  },
  {
   "cell_type": "code",
   "execution_count": 63,
   "id": "aa7d2a35-f2de-4faf-a39b-919e05efdcda",
   "metadata": {},
   "outputs": [
    {
     "data": {
      "text/plain": [
       "True"
      ]
     },
     "execution_count": 63,
     "metadata": {},
     "output_type": "execute_result"
    }
   ],
   "source": [
    "issubclass(Yugo, Car)"
   ]
  },
  {
   "cell_type": "code",
   "execution_count": 66,
   "id": "8a5b5b11-28ad-49fc-aa81-2e79212c3eed",
   "metadata": {},
   "outputs": [
    {
     "ename": "TypeError",
     "evalue": "Car.exclaim() takes 1 positional argument but 2 were given",
     "output_type": "error",
     "traceback": [
      "\u001b[0;31m---------------------------------------------------------------------------\u001b[0m",
      "\u001b[0;31mTypeError\u001b[0m                                 Traceback (most recent call last)",
      "Input \u001b[0;32mIn [66]\u001b[0m, in \u001b[0;36m<cell line: 1>\u001b[0;34m()\u001b[0m\n\u001b[0;32m----> 1\u001b[0m \u001b[43mcar\u001b[49m\u001b[38;5;241;43m.\u001b[39;49m\u001b[43mexclaim\u001b[49m\u001b[43m(\u001b[49m\u001b[43mcar\u001b[49m\u001b[43m)\u001b[49m\n",
      "\u001b[0;31mTypeError\u001b[0m: Car.exclaim() takes 1 positional argument but 2 were given"
     ]
    }
   ],
   "source": [
    "car.exclaim()"
   ]
  },
  {
   "cell_type": "code",
   "execution_count": 82,
   "id": "2e98d8ff-5289-4584-b7ae-f4c83fa73687",
   "metadata": {},
   "outputs": [],
   "source": [
    "class Circle:\n",
    "    def __init__(self, radius):\n",
    "        self.radius = radius\n",
    "        \n",
    "    @property\n",
    "    def diameter(self):\n",
    "        return self.radius * 2"
   ]
  },
  {
   "cell_type": "code",
   "execution_count": 83,
   "id": "d26131c1-686f-443b-b7cc-24b2ee6ae18f",
   "metadata": {},
   "outputs": [],
   "source": [
    "c = Circle(2)"
   ]
  },
  {
   "cell_type": "code",
   "execution_count": 85,
   "id": "8bdc95d2-ceb2-42cf-8663-adfcbee49d8b",
   "metadata": {},
   "outputs": [
    {
     "data": {
      "text/plain": [
       "4"
      ]
     },
     "execution_count": 85,
     "metadata": {},
     "output_type": "execute_result"
    }
   ],
   "source": [
    "c.diameter"
   ]
  },
  {
   "cell_type": "code",
   "execution_count": null,
   "id": "4a76486b-e823-4be4-9c63-639a7b192485",
   "metadata": {},
   "outputs": [],
   "source": []
  }
 ],
 "metadata": {
  "kernelspec": {
   "display_name": "Python 3 (ipykernel)",
   "language": "python",
   "name": "python3"
  },
  "language_info": {
   "codemirror_mode": {
    "name": "ipython",
    "version": 3
   },
   "file_extension": ".py",
   "mimetype": "text/x-python",
   "name": "python",
   "nbconvert_exporter": "python",
   "pygments_lexer": "ipython3",
   "version": "3.10.4"
  }
 },
 "nbformat": 4,
 "nbformat_minor": 5
}
