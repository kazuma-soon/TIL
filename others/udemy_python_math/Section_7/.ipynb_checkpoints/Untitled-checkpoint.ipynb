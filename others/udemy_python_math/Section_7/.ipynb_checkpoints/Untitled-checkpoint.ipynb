{
 "cells": [
  {
   "cell_type": "code",
   "execution_count": 59,
   "id": "86ce7a57-72aa-4aaf-88ee-9130ea974bdb",
   "metadata": {},
   "outputs": [],
   "source": [
    "class Car:\n",
    "    def __init__(self, name, add):\n",
    "        self.name = name\n",
    "        self.add = add\n",
    "        \n",
    "    def exclaim(self):\n",
    "        print(self)\n",
    "        print('Car')\n",
    "        \n",
    "        \n",
    "class Yugo(Car):\n",
    "    def __init__(self, name, email, add):\n",
    "        super().__init__(add, name)\n",
    "        self.email = email\n",
    "        \n",
    "    def exclaim():\n",
    "        'Yugo'"
   ]
  },
  {
   "cell_type": "code",
   "execution_count": 60,
   "id": "f85ed934-c6e1-4a71-bcf5-64874a3e5efb",
   "metadata": {},
   "outputs": [],
   "source": [
    "car = Car(name = 'a', add = 'nara')\n",
    "yugo = Yugo(email = 'a.com', add = 'nara', name = 'yugo')"
   ]
  },
  {
   "cell_type": "code",
   "execution_count": 61,
   "id": "22681b8a-f852-49d3-88a7-2b0686dc7e92",
   "metadata": {},
   "outputs": [
    {
     "data": {
      "text/plain": [
       "'nara'"
      ]
     },
     "execution_count": 61,
     "metadata": {},
     "output_type": "execute_result"
    }
   ],
   "source": [
    "car.add"
   ]
  },
  {
   "cell_type": "code",
   "execution_count": 62,
   "id": "d033b65e-4320-43ce-b893-3fa008456f58",
   "metadata": {},
   "outputs": [
    {
     "data": {
      "text/plain": [
       "False"
      ]
     },
     "execution_count": 62,
     "metadata": {},
     "output_type": "execute_result"
    }
   ],
   "source": [
    "isinstance(Yugo, Car)"
   ]
  },
  {
   "cell_type": "code",
   "execution_count": 63,
   "id": "aa7d2a35-f2de-4faf-a39b-919e05efdcda",
   "metadata": {},
   "outputs": [
    {
     "data": {
      "text/plain": [
       "True"
      ]
     },
     "execution_count": 63,
     "metadata": {},
     "output_type": "execute_result"
    }
   ],
   "source": [
    "issubclass(Yugo, Car)"
   ]
  },
  {
   "cell_type": "code",
   "execution_count": 66,
   "id": "8a5b5b11-28ad-49fc-aa81-2e79212c3eed",
   "metadata": {},
   "outputs": [
    {
     "ename": "TypeError",
     "evalue": "Car.exclaim() takes 1 positional argument but 2 were given",
     "output_type": "error",
     "traceback": [
      "\u001b[0;31m---------------------------------------------------------------------------\u001b[0m",
      "\u001b[0;31mTypeError\u001b[0m                                 Traceback (most recent call last)",
      "Input \u001b[0;32mIn [66]\u001b[0m, in \u001b[0;36m<cell line: 1>\u001b[0;34m()\u001b[0m\n\u001b[0;32m----> 1\u001b[0m \u001b[43mcar\u001b[49m\u001b[38;5;241;43m.\u001b[39;49m\u001b[43mexclaim\u001b[49m\u001b[43m(\u001b[49m\u001b[43mcar\u001b[49m\u001b[43m)\u001b[49m\n",
      "\u001b[0;31mTypeError\u001b[0m: Car.exclaim() takes 1 positional argument but 2 were given"
     ]
    }
   ],
   "source": [
    "car.exclaim()"
   ]
  },
  {
   "cell_type": "code",
   "execution_count": 72,
   "id": "2e98d8ff-5289-4584-b7ae-f4c83fa73687",
   "metadata": {},
   "outputs": [],
   "source": [
    "class Circle:\n",
    "    def __init__(self, radius):\n",
    "        self.radius = radius\n",
    "        \n",
    "    @property\n",
    "    def diameter(self):\n",
    "        return self.radius\n",
    "    \n",
    "    @diameter.setter\n",
    "    def diameter(self, input):\n",
    "        self.diameter = input"
   ]
  },
  {
   "cell_type": "code",
   "execution_count": 73,
   "id": "d26131c1-686f-443b-b7cc-24b2ee6ae18f",
   "metadata": {},
   "outputs": [],
   "source": [
    "c = Circle(2)"
   ]
  },
  {
   "cell_type": "code",
   "execution_count": 75,
   "id": "8bdc95d2-ceb2-42cf-8663-adfcbee49d8b",
   "metadata": {},
   "outputs": [
    {
     "ename": "RecursionError",
     "evalue": "maximum recursion depth exceeded",
     "output_type": "error",
     "traceback": [
      "\u001b[0;31m---------------------------------------------------------------------------\u001b[0m",
      "\u001b[0;31mRecursionError\u001b[0m                            Traceback (most recent call last)",
      "Input \u001b[0;32mIn [75]\u001b[0m, in \u001b[0;36m<cell line: 1>\u001b[0;34m()\u001b[0m\n\u001b[0;32m----> 1\u001b[0m c\u001b[38;5;241m.\u001b[39mdiameter \u001b[38;5;241m=\u001b[39m \u001b[38;5;241m4\u001b[39m\n",
      "Input \u001b[0;32mIn [72]\u001b[0m, in \u001b[0;36mCircle.diameter\u001b[0;34m(self, input)\u001b[0m\n\u001b[1;32m      9\u001b[0m \u001b[38;5;129m@diameter\u001b[39m\u001b[38;5;241m.\u001b[39msetter\n\u001b[1;32m     10\u001b[0m \u001b[38;5;28;01mdef\u001b[39;00m \u001b[38;5;21mdiameter\u001b[39m(\u001b[38;5;28mself\u001b[39m, \u001b[38;5;28minput\u001b[39m):\n\u001b[0;32m---> 11\u001b[0m     \u001b[38;5;28mself\u001b[39m\u001b[38;5;241m.\u001b[39mdiameter \u001b[38;5;241m=\u001b[39m \u001b[38;5;28minput\u001b[39m\n",
      "Input \u001b[0;32mIn [72]\u001b[0m, in \u001b[0;36mCircle.diameter\u001b[0;34m(self, input)\u001b[0m\n\u001b[1;32m      9\u001b[0m \u001b[38;5;129m@diameter\u001b[39m\u001b[38;5;241m.\u001b[39msetter\n\u001b[1;32m     10\u001b[0m \u001b[38;5;28;01mdef\u001b[39;00m \u001b[38;5;21mdiameter\u001b[39m(\u001b[38;5;28mself\u001b[39m, \u001b[38;5;28minput\u001b[39m):\n\u001b[0;32m---> 11\u001b[0m     \u001b[38;5;28mself\u001b[39m\u001b[38;5;241m.\u001b[39mdiameter \u001b[38;5;241m=\u001b[39m \u001b[38;5;28minput\u001b[39m\n",
      "    \u001b[0;31m[... skipping similar frames: Circle.diameter at line 11 (2970 times)]\u001b[0m\n",
      "Input \u001b[0;32mIn [72]\u001b[0m, in \u001b[0;36mCircle.diameter\u001b[0;34m(self, input)\u001b[0m\n\u001b[1;32m      9\u001b[0m \u001b[38;5;129m@diameter\u001b[39m\u001b[38;5;241m.\u001b[39msetter\n\u001b[1;32m     10\u001b[0m \u001b[38;5;28;01mdef\u001b[39;00m \u001b[38;5;21mdiameter\u001b[39m(\u001b[38;5;28mself\u001b[39m, \u001b[38;5;28minput\u001b[39m):\n\u001b[0;32m---> 11\u001b[0m     \u001b[38;5;28mself\u001b[39m\u001b[38;5;241m.\u001b[39mdiameter \u001b[38;5;241m=\u001b[39m \u001b[38;5;28minput\u001b[39m\n",
      "\u001b[0;31mRecursionError\u001b[0m: maximum recursion depth exceeded"
     ]
    }
   ],
   "source": [
    "c.diameter = 4"
   ]
  },
  {
   "cell_type": "code",
   "execution_count": null,
   "id": "4a76486b-e823-4be4-9c63-639a7b192485",
   "metadata": {},
   "outputs": [],
   "source": []
  }
 ],
 "metadata": {
  "kernelspec": {
   "display_name": "Python 3 (ipykernel)",
   "language": "python",
   "name": "python3"
  },
  "language_info": {
   "codemirror_mode": {
    "name": "ipython",
    "version": 3
   },
   "file_extension": ".py",
   "mimetype": "text/x-python",
   "name": "python",
   "nbconvert_exporter": "python",
   "pygments_lexer": "ipython3",
   "version": "3.10.4"
  }
 },
 "nbformat": 4,
 "nbformat_minor": 5
}
