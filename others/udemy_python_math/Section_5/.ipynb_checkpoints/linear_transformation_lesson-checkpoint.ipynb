{
 "cells": [
  {
   "cell_type": "markdown",
   "metadata": {},
   "source": [
    "# 線形変換\n",
    "線形変換により、ベクトルを変換します。  \n",
    "人工知能においては、ニューラルネットワークにおいて情報を伝播させるのに使います。"
   ]
  },
  {
   "cell_type": "markdown",
   "metadata": {},
   "source": [
    "### ベクトルの描画\n",
    "\n",
    "以下の縦ベクトルを矢印で描画します。  \n",
    "\n",
    "$$\n",
    "\\vec{a} = \\left(\n",
    "    \\begin{array}{c}\n",
    "      2 \\\\\n",
    "      3 \\\\\n",
    "    \\end{array}\n",
    "  \\right) \n",
    "$$ \n",
    "\n",
    "矢印の描画には、matplotlib.pyplotのquiver関数を使います。  \n",
    "quiver関数は次のように設定します。\n",
    "\n",
    "```\n",
    "quiver(始点のx座標, 始点のy座標, 矢印のx成分, 矢印のy成分,\n",
    "       angles=矢印の角度の決定方法, scale_units=スケールの単位, scale=スケール, color=矢印の色)\n",
    "```\n",
    "\n",
    "矢印のx成分とy成分でベクトルを表現します。"
   ]
  },
  {
   "cell_type": "code",
   "execution_count": 3,
   "metadata": {},
   "outputs": [
    {
     "data": {
      "image/png": "[encoded data removed]",
      "text/plain": [
       "<Figure size 432x288 with 1 Axes>"
      ]
     },
     "metadata": {
      "needs_background": "light"
     },
     "output_type": "display_data"
    }
   ],
   "source": [
    "import numpy as np\n",
    "import matplotlib.pyplot as plt\n",
    "\n",
    "# 矢印を描画する関数\n",
    "def arrow(start, size, color):\n",
    "    plt.quiver(start[0], start[1], size[0], size[1], angles=\"xy\", scale_units='xy', scale=1, color=color)\n",
    "\n",
    "# 矢印の始点\n",
    "s = np.array([0, 0])  # 原点\n",
    "\n",
    "# ベクトル\n",
    "a = np.array([2, 3])  # 縦ベクトルを表す\n",
    "\n",
    "arrow(s, a, color=\"red\")\n",
    "\n",
    "# グラフ表示\n",
    "plt.xlim([-3,3])                # xの表示範囲\n",
    "plt.ylim([-3,3])                # yの表示範囲\n",
    "plt.grid()                      # グリッドの表示\n",
    "plt.gca().set_aspect('equal', adjustable='box')  # 縦横を同じ長さに\n",
    "plt.show()"
   ]
  },
  {
   "cell_type": "markdown",
   "metadata": {},
   "source": [
    "### 線形変換\n",
    "\n",
    "以下のベクトル$A$を考えます。\n",
    "\n",
    "$$A = \\left(\n",
    "    \\begin{array}{cc}\n",
    "      2 & -1 \\\\\n",
    "      2 & -2 \\\\\n",
    "    \\end{array}\n",
    "  \\right)$$\n",
    "  \n",
    "以下のように、縦ベクトル$\\vec{a}$にこの行列$A$をかけることで、ベクトルを変換することができます。\n",
    "\n",
    "$$\\vec{b} = A\\vec{a} = \\left(\n",
    "    \\begin{array}{cc}\n",
    "      2 & -1 \\\\\n",
    "      2 & -2 \\\\\n",
    "    \\end{array}\n",
    "  \\right)\n",
    "  \\left(\n",
    "    \\begin{array}{c}\n",
    "      2 \\\\\n",
    "      3 \\\\\n",
    "    \\end{array}\n",
    "  \\right) \n",
    "  = \\left(\n",
    "    \\begin{array}{c}\n",
    "      1 \\\\\n",
    "      -2 \\\\\n",
    "    \\end{array}\n",
    "  \\right) \n",
    "$$\n",
    "\n",
    "以上のように、行列$A$によってベクトル$\\vec{a}$はベクトル$\\vec{b}$に変換されました。  \n",
    "このようなベクトルからベクトルへの変換を**線形変換**といいます。  \n",
    "\n",
    "変換前のベクトル$\\vec{a}$、変換後のベクトル$\\vec{b}$を矢印で描画すると以下のようになります。"
   ]
  },
  {
   "cell_type": "code",
   "execution_count": 6,
   "metadata": {},
   "outputs": [
    {
     "name": "stdout",
     "output_type": "stream",
     "text": [
      "a [2 3]\n",
      "b [ 1 -2]\n"
     ]
    },
    {
     "data": {
      "image/png": "[encoded data removed]",
      "text/plain": [
       "<Figure size 432x288 with 1 Axes>"
      ]
     },
     "metadata": {
      "needs_background": "light"
     },
     "output_type": "display_data"
    }
   ],
   "source": [
    "import numpy as np\n",
    "import matplotlib.pyplot as plt\n",
    "\n",
    "a = np.array([2, 3])  # 変換前のベクトル\n",
    "A = np.array([[2, -1],\n",
    "              [2, -2]])\n",
    "b = np.dot(A, a)      # 線形変換\n",
    "\n",
    "print(\"a\", a)\n",
    "print(\"b\", b)\n",
    "      \n",
    "def arrow(start, size, color):\n",
    "    plt.quiver(start[0], start[1], size[0], size[1], angles=\"xy\", scale_units='xy', scale=1, color=color)\n",
    "\n",
    "s = np.array([0, 0])  # 原点\n",
    "\n",
    "arrow(s, a, color=\"red\")\n",
    "arrow(s, b, color=\"blue\")\n",
    "\n",
    "# グラフ表示\n",
    "plt.xlim([-3,3])                # xの表示範囲\n",
    "plt.ylim([-3,3])                # yの表示範囲\n",
    "plt.grid()                      # グリッドの表示\n",
    "plt.gca().set_aspect('equal', adjustable='box')  # 縦横を同じ長さに\n",
    "plt.show()"
   ]
  },
  {
   "cell_type": "markdown",
   "metadata": {},
   "source": [
    "行列$A$により、赤い矢印で示されるベクトル$\\vec{a}$が、青い矢印で示されるベクトル$\\vec{b}$に変換されました。  "
   ]
  },
  {
   "cell_type": "markdown",
   "metadata": {},
   "source": [
    "### 標準基底\n",
    "  \n",
    "以下のベクトル$\\vec{e_x}$と$\\vec{e_y}$は、**標準基底**と呼ばれます。\n",
    "\n",
    "$$\\vec{e_x} = \\left(\n",
    "    \\begin{array}{c}\n",
    "      1 \\\\\n",
    "      0 \\\\\n",
    "    \\end{array}\n",
    "  \\right) $$\n",
    "  \n",
    "$$\\vec{e_y} = \\left(\n",
    "    \\begin{array}{c}\n",
    "      0 \\\\\n",
    "      1 \\\\\n",
    "    \\end{array}\n",
    "  \\right) $$\n",
    "  \n",
    " このとき、ベクトル$\\vec{a}$は次のように表すことができます。\n",
    " \n",
    " $$\\vec{a} = \\left(\n",
    "    \\begin{array}{c}\n",
    "      2 \\\\\n",
    "      3 \\\\\n",
    "    \\end{array}\n",
    "  \\right) = 2\\left(\n",
    "    \\begin{array}{c}\n",
    "      1 \\\\\n",
    "      0 \\\\\n",
    "    \\end{array}\n",
    "  \\right)\n",
    "  +3\\left(\n",
    "    \\begin{array}{c}\n",
    "      0 \\\\\n",
    "      1 \\\\\n",
    "    \\end{array}\n",
    "  \\right)\n",
    "  = 2\\vec{e_x}+3\\vec{e_y}$$\n",
    "  \n",
    "このように、ベクトルは標準基底と定数の積の和として表現することができます。\n",
    "\n",
    "以下のセルでは標準基底を描画します。"
   ]
  },
  {
   "cell_type": "code",
   "execution_count": 7,
   "metadata": {},
   "outputs": [
    {
     "name": "stdout",
     "output_type": "stream",
     "text": [
      "a [2 3]\n",
      "e_x [1 0]\n",
      "e_y [0 1]\n"
     ]
    },
    {
     "data": {
      "image/png": "[encoded data removed]",
      "text/plain": [
       "<Figure size 432x288 with 1 Axes>"
      ]
     },
     "metadata": {
      "needs_background": "light"
     },
     "output_type": "display_data"
    }
   ],
   "source": [
    "import numpy as np\n",
    "import matplotlib.pyplot as plt\n",
    "\n",
    "a = np.array([2, 3])\n",
    "e_x = np.array([1, 0])  # 標準基底\n",
    "e_y = np.array([0, 1])  # 標準基底\n",
    "\n",
    "print(\"a\", a)\n",
    "print(\"e_x\", e_x)\n",
    "print(\"e_y\", e_y)\n",
    "      \n",
    "def arrow(start, size, color):\n",
    "    plt.quiver(start[0], start[1], size[0], size[1], angles=\"xy\", scale_units='xy', scale=1, color=color)\n",
    "\n",
    "s = np.array([0, 0])  # 原点\n",
    "\n",
    "arrow(s, a, color=\"red\")\n",
    "arrow(s, e_x, color=\"black\")\n",
    "arrow(s, e_y, color=\"black\")\n",
    "\n",
    "# グラフ表示\n",
    "plt.xlim([-3,3])                # xの表示範囲\n",
    "plt.ylim([-3,3])                # yの表示範囲\n",
    "plt.grid()                      # グリッドの表示\n",
    "plt.gca().set_aspect('equal', adjustable='box')  # 縦横を同じ長さに\n",
    "plt.show()"
   ]
  },
  {
   "cell_type": "markdown",
   "metadata": {},
   "source": [
    "赤い矢印のベクトルは、黒い矢印の標準基底に定数をかけて足し合わせることにより表されます。  \n",
    "\n",
    "標準基底を用いて、ベクトルの一般的な表現をします。  \n",
    "$m$個の要素を持つベクトル$\\vec{a}$は、標準基底を用いて次のように表されます。\n",
    "\n",
    "$$\\vec{a} = \\sum_{k=1}^m r_k \\vec{e_k}$$\n",
    "\n",
    "$r_k$が定数で、$e_k$が標準基底です。  \n",
    "このベクトルに、次の$n\\times m$の行列$A$を使って線形変換を行います。\n",
    "\n",
    "$$A=\\left(\n",
    "    \\begin{array}{cc}\n",
    "      a_{11} & a_{12} & \\ldots & a_{1m} \\\\\n",
    "      a_{21} & a_{22} & \\ldots & a_{2m} \\\\\n",
    "      \\vdots & \\vdots & \\ddots & \\vdots \\\\\n",
    "      a_{n1} & a_{n2} & \\ldots & a_{nm} \\\\\n",
    "    \\end{array}\n",
    "\\right)\n",
    "$$\n",
    "\n",
    "$$\\vec{b} = A\\vec{a}$$\n",
    "\n",
    "この結果得られた$\\vec{b}$は、標準基底を使って次のように表すことができます。\n",
    "\n",
    "$$\\vec{b} = \\sum_{k=1}^n s_k \\vec{e_k}$$\n",
    "\n",
    "$s_k$は各標準基底にかける定数です。  \n",
    "\n",
    "$n=m$であれば行列$A$は**正方行列**と呼ばれる行列になりますが、$A$が正方行列でなければ、線形変換によりベクトルの要素数が変化することになります。  \n",
    "例えば、以下の例では線形変換によりベクトルの要素数が2から3に変化します。\n",
    "\n",
    "$$ \\left(\n",
    "    \\begin{array}{cc}\n",
    "      2 & -1 \\\\\n",
    "      2 & -2 \\\\\n",
    "     -1 &  2 \\\\\n",
    "    \\end{array}\n",
    "  \\right)\n",
    "  \\left(\n",
    "    \\begin{array}{c}\n",
    "      2 \\\\\n",
    "      3 \\\\\n",
    "    \\end{array}\n",
    "  \\right) \n",
    "  = \\left(\n",
    "    \\begin{array}{c}\n",
    "      1 \\\\\n",
    "      -2 \\\\\n",
    "      4 \\\\\n",
    "    \\end{array}\n",
    "  \\right) \n",
    "$$"
   ]
  },
  {
   "cell_type": "markdown",
   "metadata": {},
   "source": [
    "### 演習:\n",
    "以下のセルを補完して、ベクトル$\\vec{a}$を行列$A$で線形変換しましょう。  \n",
    "そして、ベクトル$\\vec{a}$と変換後のベクトル$\\vec{b}$を矢印でグラフ上に表示しましょう。"
   ]
  },
  {
   "cell_type": "code",
   "execution_count": 8,
   "metadata": {},
   "outputs": [
    {
     "name": "stdout",
     "output_type": "stream",
     "text": [
      "a [1 3]\n",
      "b [-2 -1]\n"
     ]
    },
    {
     "data": {
      "image/png": "[encoded data removed]",
      "text/plain": [
       "<Figure size 432x288 with 1 Axes>"
      ]
     },
     "metadata": {
      "needs_background": "light"
     },
     "output_type": "display_data"
    }
   ],
   "source": [
    "import numpy as np\n",
    "import matplotlib.pyplot as plt\n",
    "\n",
    "a = np.array([1, 3])  # 変換前のベクトル\n",
    "A = np.array([[1, -1],\n",
    "              [2, -1]])\n",
    "b =  np.dot(A, a)     # 線形変換\n",
    "\n",
    "print(\"a\", a)\n",
    "print(\"b\", b)\n",
    "      \n",
    "def arrow(start, size, color):\n",
    "    plt.quiver(start[0], start[1], size[0], size[1], angles=\"xy\", scale_units='xy', scale=1, color=color)\n",
    "\n",
    "s = np.array([0, 0])  # 原点\n",
    "\n",
    "arrow(s, a, color=\"red\")\n",
    "arrow(s, b, color=\"blue\")\n",
    "\n",
    "# グラフ表示\n",
    "plt.xlim([-3,3])                # xの表示範囲\n",
    "plt.ylim([-3,3])                # yの表示範囲\n",
    "plt.grid()                      # グリッドの表示\n",
    "plt.gca().set_aspect('equal', adjustable='box')  # 縦横を同じ長さに\n",
    "plt.show()"
   ]
  },
  {
   "cell_type": "code",
   "execution_count": null,
   "metadata": {},
   "outputs": [],
   "source": []
  }
 ],
 "metadata": {
  "kernelspec": {
   "display_name": "Python 3 (ipykernel)",
   "language": "python",
   "name": "python3"
  },
  "language_info": {
   "codemirror_mode": {
    "name": "ipython",
    "version": 3
   },
   "file_extension": ".py",
   "mimetype": "text/x-python",
   "name": "python",
   "nbconvert_exporter": "python",
   "pygments_lexer": "ipython3",
   "version": "3.10.4"
  }
 },
 "nbformat": 4,
 "nbformat_minor": 4
}
