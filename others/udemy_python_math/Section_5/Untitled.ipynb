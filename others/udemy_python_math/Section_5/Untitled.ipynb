{
 "cells": [
  {
   "cell_type": "code",
   "execution_count": 20,
   "id": "bdd8781d-07c0-41eb-bbb8-319b41114553",
   "metadata": {},
   "outputs": [
    {
     "data": {
      "text/plain": [
       "4567217072"
      ]
     },
     "execution_count": 20,
     "metadata": {},
     "output_type": "execute_result"
    }
   ],
   "source": [
    "animal = 'fruitbat'\n",
    "id(animal)"
   ]
  },
  {
   "cell_type": "code",
   "execution_count": 21,
   "id": "1ba65afd-26f5-4e1d-a347-895547093d9c",
   "metadata": {},
   "outputs": [],
   "source": [
    "def aa():\n",
    "    global animal\n",
    "    print(id(animal))\n",
    "    print(animal)"
   ]
  },
  {
   "cell_type": "code",
   "execution_count": 22,
   "id": "7a21a3a8-3b4d-4a64-8961-7223fcf10f74",
   "metadata": {},
   "outputs": [
    {
     "name": "stdout",
     "output_type": "stream",
     "text": [
      "4567217072\n",
      "fruitbat\n"
     ]
    }
   ],
   "source": [
    "aa()"
   ]
  },
  {
   "cell_type": "code",
   "execution_count": 25,
   "id": "de7e35ca-f9e0-4852-9579-220fb3020d39",
   "metadata": {},
   "outputs": [
    {
     "name": "stdout",
     "output_type": "stream",
     "text": [
      "aaaa\n"
     ]
    }
   ],
   "source": [
    "def a():\n",
    "    'aaaa'\n",
    "    print(a.__doc__)\n",
    "    \n",
    "a()"
   ]
  },
  {
   "cell_type": "code",
   "execution_count": 26,
   "id": "f2a64edb-7e70-40c3-9e47-33963ab5ace3",
   "metadata": {},
   "outputs": [
    {
     "ename": "NameError",
     "evalue": "name '__main__' is not defined",
     "output_type": "error",
     "traceback": [
      "\u001b[0;31m---------------------------------------------------------------------------\u001b[0m",
      "\u001b[0;31mNameError\u001b[0m                                 Traceback (most recent call last)",
      "Input \u001b[0;32mIn [26]\u001b[0m, in \u001b[0;36m<cell line: 1>\u001b[0;34m()\u001b[0m\n\u001b[0;32m----> 1\u001b[0m \u001b[43m__main__\u001b[49m\n",
      "\u001b[0;31mNameError\u001b[0m: name '__main__' is not defined"
     ]
    }
   ],
   "source": [
    "__main__"
   ]
  },
  {
   "cell_type": "code",
   "execution_count": 37,
   "id": "5633d610-9933-49a6-8e85-67a8db4fdb0e",
   "metadata": {},
   "outputs": [
    {
     "name": "stdout",
     "output_type": "stream",
     "text": [
      "5\n"
     ]
    }
   ],
   "source": [
    "def get_odds():\n",
    "    for i in range(1, 10, 2):\n",
    "        yield i\n",
    "\n",
    "cnt = 1\n",
    "for i in get_odds():\n",
    "    if cnt == 3:\n",
    "        print(i) \n",
    "        break\n",
    "    cnt += 1"
   ]
  },
  {
   "cell_type": "code",
   "execution_count": 64,
   "id": "fce332cc-ed76-4bc6-9bd3-f05a4fbe0472",
   "metadata": {},
   "outputs": [
    {
     "name": "stdout",
     "output_type": "stream",
     "text": [
      "start\n",
      "BOB HELLO\n",
      "end\n"
     ]
    }
   ],
   "source": [
    "def test(cb):\n",
    "    def n_cb(*args, **kwargs):\n",
    "        print('start')\n",
    "        cb(*args, **kwargs)\n",
    "        print('end')\n",
    "    return n_cb\n",
    " \n",
    "\n",
    "def hello(name):\n",
    "    print(name + ' HELLO')\n",
    "\n",
    "test(hello)('BOB')"
   ]
  },
  {
   "cell_type": "code",
   "execution_count": 76,
   "id": "9e3a80cc-484f-4406-9ec6-eeff29e7baa1",
   "metadata": {},
   "outputs": [
    {
     "name": "stdout",
     "output_type": "stream",
     "text": [
      "Cao\n"
     ]
    }
   ],
   "source": [
    "class OopsException(Exception):\n",
    "    pass\n",
    "\n",
    "try:\n",
    "    raise OopsException('Cao')\n",
    "except OopsException as exc:\n",
    "    print(exc)"
   ]
  },
  {
   "cell_type": "code",
   "execution_count": 89,
   "id": "54f38988-6c0a-4b0c-ac7e-51821881087d",
   "metadata": {},
   "outputs": [
    {
     "name": "stdout",
     "output_type": "stream",
     "text": [
      "GOT 0\n",
      "GOT 1\n",
      "GOT 2\n",
      "GOT 3\n",
      "GOT 4\n",
      "GOT 5\n",
      "GOT 6\n",
      "GOT 7\n",
      "GOT 8\n",
      "GOT 9\n"
     ]
    }
   ],
   "source": [
    "g = (print(f'GOT {i}') for i in range(10))\n",
    "\n",
    "for i in g:\n",
    "    i"
   ]
  },
  {
   "cell_type": "code",
   "execution_count": 90,
   "id": "ac23cc2c-302f-4325-a2b6-6d3357661112",
   "metadata": {},
   "outputs": [
    {
     "name": "stdout",
     "output_type": "stream",
     "text": [
      "GOT 0\n",
      "GOT 1\n",
      "GOT 2\n",
      "GOT 3\n",
      "GOT 4\n",
      "GOT 5\n",
      "GOT 6\n",
      "GOT 7\n",
      "GOT 8\n",
      "GOT 9\n"
     ]
    }
   ],
   "source": [
    "g = (i for i in range(10))\n",
    "\n",
    "for i in g:\n",
    "    print(f'GOT {i}')"
   ]
  },
  {
   "cell_type": "code",
   "execution_count": 91,
   "id": "2414482e-be31-42c3-a9ff-359927fe6645",
   "metadata": {},
   "outputs": [
    {
     "name": "stdout",
     "output_type": "stream",
     "text": [
      "5\n"
     ]
    }
   ],
   "source": [
    "def get_odds():\n",
    "    for i in range(1, 10, 2):\n",
    "        yield i\n",
    "\n",
    "cnt = 1\n",
    "for i in get_odds():\n",
    "    if cnt == 3:\n",
    "        print(i) \n",
    "        break\n",
    "    cnt += 1"
   ]
  },
  {
   "cell_type": "code",
   "execution_count": 95,
   "id": "26c9bd8e-dfc1-4687-b9fa-cf105ab1264f",
   "metadata": {},
   "outputs": [
    {
     "ename": "SyntaxError",
     "evalue": "expected ':' (994236786.py, line 1)",
     "output_type": "error",
     "traceback": [
      "\u001b[0;36m  Input \u001b[0;32mIn [95]\u001b[0;36m\u001b[0m\n\u001b[0;31m    for i in g := (odd for odd in range(10) if odd % 2 == 0):\u001b[0m\n\u001b[0m               ^\u001b[0m\n\u001b[0;31mSyntaxError\u001b[0m\u001b[0;31m:\u001b[0m expected ':'\n"
     ]
    }
   ],
   "source": [
    "for i in (odd for odd in range(10) if odd % 2 == 0):\n",
    "    print(i)"
   ]
  },
  {
   "cell_type": "code",
   "execution_count": null,
   "id": "fe5025d6-c6e3-4f0d-b067-897e7f4db969",
   "metadata": {},
   "outputs": [],
   "source": []
  }
 ],
 "metadata": {
  "kernelspec": {
   "display_name": "Python 3 (ipykernel)",
   "language": "python",
   "name": "python3"
  },
  "language_info": {
   "codemirror_mode": {
    "name": "ipython",
    "version": 3
   },
   "file_extension": ".py",
   "mimetype": "text/x-python",
   "name": "python",
   "nbconvert_exporter": "python",
   "pygments_lexer": "ipython3",
   "version": "3.10.4"
  }
 },
 "nbformat": 4,
 "nbformat_minor": 5
}
